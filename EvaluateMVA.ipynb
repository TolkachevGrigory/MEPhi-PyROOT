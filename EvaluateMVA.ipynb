{
 "cells": [
  {
   "cell_type": "code",
   "execution_count": 1,
   "metadata": {},
   "outputs": [
    {
     "name": "stdout",
     "output_type": "stream",
     "text": [
      "Welcome to JupyROOT 6.18/00\n"
     ]
    }
   ],
   "source": [
    "import math \n",
    "from ROOT import TMVA, TFile, TString\n",
    "from array import array\n",
    "import ROOT\n"
   ]
  },
  {
   "cell_type": "code",
   "execution_count": 10,
   "metadata": {},
   "outputs": [],
   "source": [
    "%jsroot on"
   ]
  },
  {
   "cell_type": "code",
   "execution_count": 2,
   "metadata": {},
   "outputs": [],
   "source": [
    "f1 = ROOT.TFile.Open('/eos/user/g/gtolkach/data/tau_mu_plusandminus.root')\n",
    "oldtree = f1.Get('NOMINAL')"
   ]
  },
  {
   "cell_type": "code",
   "execution_count": 21,
   "metadata": {},
   "outputs": [],
   "source": [
    "#ULong64_t event\n",
    "#N = background.GetEntries()\n",
    "#EvaluateMVAB = array('f',N*[0.])\n",
    "#event = array('i',[0])\n",
    "\n",
    "#f11 = ROOT.TFile(\"EvaluateMVATest.root\",\"recreate\")\n",
    "#EvMva = ROOT.TTree(\"EvMva\",\"Simple Tree\")\n",
    "#EvMva.Branch(\"EventBranch\", event, \"EventBranch/I\")\n",
    "#EvMva.Branch(\"EvaluateMVAB\", EvaluateMVAB, \"EvaluateMVAB[EventBranch]/F\")"
   ]
  },
  {
   "cell_type": "code",
   "execution_count": 3,
   "metadata": {},
   "outputs": [
    {
     "data": {
      "text/plain": [
       "<ROOT.TBranch object (\"EvMva\") at 0x5e9af60>"
      ]
     },
     "execution_count": 3,
     "metadata": {},
     "output_type": "execute_result"
    }
   ],
   "source": [
    "from ROOT import TFile, TTree\n",
    "from ROOT import gROOT, AddressOf\n",
    "\n",
    "gROOT.ProcessLine(\n",
    "\"struct MyStruct {\\\n",
    "   Int_t     fEvent;\\\n",
    "   Double_t    fEvMva;\\\n",
    "};\" );\n",
    " \n",
    "from ROOT import MyStruct\n",
    "mystruct = MyStruct()\n",
    " \n",
    "f2 = TFile( 'treeEvMVA_for_data_mu.root', 'RECREATE' )\n",
    "tree = TTree( 'EvMvatree', 'Just A Tree' )\n",
    "tree.Branch( 'event', mystruct, 'fEvent/I' )\n",
    "tree.Branch( 'EvMva', AddressOf( mystruct, 'fEvMva' ), 'EvMva/F' )"
   ]
  },
  {
   "cell_type": "code",
   "execution_count": 3,
   "metadata": {},
   "outputs": [],
   "source": [
    "TMVA.Tools.Instance()\n",
    "TMVA.PyMethodBase.PyInitialize()\n",
    "reader = TMVA.Reader( \"!Color:!Silent\" )\n"
   ]
  },
  {
   "cell_type": "code",
   "execution_count": 4,
   "metadata": {},
   "outputs": [],
   "source": [
    "\n",
    "#branches = {}\n",
    "#for branch in signal.GetListOfBranches():\n",
    "#    branchName = branch.GetName()\n",
    "#    branches[branchName] = array('f', [-999])\n",
    "#    signal.SetBranchAddress(branchName, branches[branchName])\n",
    "#    background.SetBranchAddress(branchName, branches[branchName])\n",
    "#    if branchName != 'EventBranch':\n",
    "#        reader.AddVariable(branchName, branches[branchName])"
   ]
  },
  {
   "cell_type": "code",
   "execution_count": 5,
   "metadata": {},
   "outputs": [],
   "source": [
    "Pt = array('f',[0])\n",
    "metE = array('f',[0])\n",
    "dPhi = array('f',[0])\n",
    "PhiMiss = array('f',[0])\n",
    "Mt = array('f',[0])\n",
    "Eta = array('f',[0])\n",
    "n = oldtree.GetEntries()\n",
    "\n",
    "#for i in range(0,n):\n",
    "#\toldtree.GetEntry(i)\n",
    "#\tPT = oldtree.GetLeaf(\"lep_0_pr.Pt()\")"
   ]
  },
  {
   "cell_type": "code",
   "execution_count": 18,
   "metadata": {},
   "outputs": [
    {
     "name": "stderr",
     "output_type": "stream",
     "text": [
      "Error in <TTree::SetBranchAddress>: unknown branch -> lep_0_p4.Pt()\n"
     ]
    }
   ],
   "source": [
    "reader.AddVariable( \"Pt\", Pt)\n",
    "oldtree.SetBranchAddress(\"\", Pt )\n",
    "\n",
    "reader.AddVariable( \"metE \",metE)\n",
    "oldtree.SetBranchAddress(\"met_reco_p4.E()\", metE )\n",
    "\n",
    "reader.AddVariable( \"dPhi \",dPhi)\n",
    "oldtree.SetBranchAddress(\"lepmet_dphi\", dPhi )\n",
    "\n",
    "reader.AddVariable( \"PhiMiss \",PhiMiss)\n",
    "oldtree.SetBranchAddress(\"met_reco_p4.Phi()\", PhiMiss )\n",
    "\n",
    "reader.AddVariable( \"Mt\", Mt)\n",
    "oldtree.SetBranchAddress(\"lepmet_mt\", Mt )\n",
    "\n",
    "reader.AddVariable( \"Eta\",Eta)\n",
    "oldtree.SetBranchAddress(\"lep_0_p4.Eta()\", Eta )\n",
    "\n"
   ]
  },
  {
   "cell_type": "code",
   "execution_count": 25,
   "metadata": {
    "scrolled": true
   },
   "outputs": [
    {
     "data": {
      "text/plain": [
       "<ROOT.TMVA::MethodMLP object (\"MLP\") at 0x546d200>"
      ]
     },
     "execution_count": 25,
     "metadata": {},
     "output_type": "execute_result"
    },
    {
     "name": "stdout",
     "output_type": "stream",
     "text": [
      "                         : Booking \"MLP\" of type \"MLP\" from /eos/user/g/gtolkach/SWAN_projects/testpy/datasetV6newBDT/weights/TMVAClassification_MLP.weights.xml.\n",
      "                         : Reading weight file: /eos/user/g/gtolkach/SWAN_projects/testpy/datasetV6newBDT/weights/TMVAClassification_MLP.weights.xml\n",
      "<HEADER> DataSetInfo              : [Default] : Added class \"Signal\"\n",
      "<HEADER> DataSetInfo              : [Default] : Added class \"Background\"\n",
      "<HEADER> MLP                      : Building Network. \n",
      "                         : Initializing weights\n",
      "                         : Booked classifier \"MLP\" of type: \"MLP\"\n"
     ]
    }
   ],
   "source": [
    "reader.BookMVA(\"MLP\",ROOT.TString(\"/eos/user/g/gtolkach/SWAN_projects/testpy/datasetV6newBDT/weights/TMVAClassification_MLP.weights.xml\"))"
   ]
  },
  {
   "cell_type": "code",
   "execution_count": 31,
   "metadata": {},
   "outputs": [],
   "source": [
    "h = ROOT.TH1D(\"output_s\",\"Blue=Signal, Red=Background;EvaluateMVA;Probability\", 20,0, 1.1)"
   ]
  },
  {
   "cell_type": "code",
   "execution_count": 23,
   "metadata": {},
   "outputs": [
    {
     "ename": "AttributeError",
     "evalue": "'TTree' object has no attribute 'PT'",
     "output_type": "error",
     "traceback": [
      "\u001b[0;31m\u001b[0m",
      "\u001b[0;31mAttributeError\u001b[0mTraceback (most recent call last)",
      "\u001b[0;32m<ipython-input-23-733a43a41722>\u001b[0m in \u001b[0;36m<module>\u001b[0;34m()\u001b[0m\n\u001b[1;32m      1\u001b[0m \u001b[0;32mfor\u001b[0m \u001b[0mi\u001b[0m \u001b[0;32min\u001b[0m \u001b[0mrange\u001b[0m\u001b[0;34m(\u001b[0m\u001b[0;36m0\u001b[0m\u001b[0;34m,\u001b[0m\u001b[0mn\u001b[0m\u001b[0;34m)\u001b[0m\u001b[0;34m:\u001b[0m\u001b[0;34m\u001b[0m\u001b[0m\n\u001b[1;32m      2\u001b[0m     \u001b[0moldtree\u001b[0m\u001b[0;34m.\u001b[0m\u001b[0mGetEntry\u001b[0m\u001b[0;34m(\u001b[0m\u001b[0mi\u001b[0m\u001b[0;34m)\u001b[0m\u001b[0;34m\u001b[0m\u001b[0m\n\u001b[0;32m----> 3\u001b[0;31m     \u001b[0mPt\u001b[0m\u001b[0;34m[\u001b[0m\u001b[0;36m0\u001b[0m\u001b[0;34m]\u001b[0m \u001b[0;34m=\u001b[0m \u001b[0moldtree\u001b[0m\u001b[0;34m.\u001b[0m\u001b[0mPT\u001b[0m\u001b[0;34m\u001b[0m\u001b[0m\n\u001b[0m\u001b[1;32m      4\u001b[0m     \u001b[0mMetE\u001b[0m\u001b[0;34m[\u001b[0m\u001b[0;36m0\u001b[0m\u001b[0;34m]\u001b[0m \u001b[0;34m=\u001b[0m \u001b[0moldtree\u001b[0m\u001b[0;34m.\u001b[0m\u001b[0mmetE\u001b[0m\u001b[0;34m\u001b[0m\u001b[0m\n\u001b[1;32m      5\u001b[0m     \u001b[0mdPhi\u001b[0m\u001b[0;34m[\u001b[0m\u001b[0;36m0\u001b[0m\u001b[0;34m]\u001b[0m \u001b[0;34m=\u001b[0m \u001b[0moldtree\u001b[0m\u001b[0;34m.\u001b[0m\u001b[0mdPhi\u001b[0m\u001b[0;34m\u001b[0m\u001b[0m\n",
      "\u001b[0;31mAttributeError\u001b[0m: 'TTree' object has no attribute 'PT'"
     ]
    }
   ],
   "source": [
    "for i in range(0,n):\n",
    "    oldtree.GetEntry(i)\n",
    "    Pt[0] = oldtree.Pt\n",
    "    MetE[0] = oldtree.metE\n",
    "    dPhi[0] = oldtree.dPhi\n",
    "    Mt[0] = oldtree.Mt\n",
    "    Eta[0] = oldtree.Eta\n",
    "    PhiMiss[0] = oldtree.PhiMiss\n",
    "    l = reader.EvaluateMVA(\"MLP\")\n",
    "    h.Fill(l)\n",
    "#    for write tree\n",
    "#    mystruct.fEvent = i\n",
    "#    mystruct.fEvMva = reader.EvaluateMVA(\"MLP\")\n",
    "#    tree.Fill()"
   ]
  },
  {
   "cell_type": "code",
   "execution_count": null,
   "metadata": {},
   "outputs": [],
   "source": [
    "f2.Write()"
   ]
  },
  {
   "cell_type": "code",
   "execution_count": null,
   "metadata": {},
   "outputs": [],
   "source": [
    "c1 = ROOT.TCanvas() \n",
    "c1.cd()\n",
    "h.Draw(\"hist \")\n",
    "c1.Draw()"
   ]
  },
  {
   "cell_type": "code",
   "execution_count": 11,
   "metadata": {},
   "outputs": [
    {
     "data": {
      "text/plain": [
       "1450"
      ]
     },
     "execution_count": 11,
     "metadata": {},
     "output_type": "execute_result"
    }
   ],
   "source": []
  },
  {
   "cell_type": "code",
   "execution_count": 12,
   "metadata": {},
   "outputs": [
    {
     "data": {
      "text/plain": [
       "<ROOT.MethodProxy at 0x7f4d18a12f60>"
      ]
     },
     "execution_count": 12,
     "metadata": {},
     "output_type": "execute_result"
    }
   ],
   "source": [
    "f1.Close()\n",
    "f2.Close"
   ]
  },
  {
   "cell_type": "code",
   "execution_count": 1,
   "metadata": {},
   "outputs": [],
   "source": [
    "#f2 = ROOT.TFile.Open('/eos/user/g/gtolkach/background_event_with_cuts_plus_1.root')\n",
    "#f2 = ROOT.TFile.Open('/eos/user/g/gtolkach/background_event_with_cuts_plus_1.root','UPDATE')\n",
    "#tree = f2.Get('NOMINAL')\n",
    "#tree.AddFriend(\"EvMvatree\",\"treefriend.root\")\n",
    "#f2.Write\n"
   ]
  },
  {
   "cell_type": "code",
   "execution_count": 2,
   "metadata": {},
   "outputs": [],
   "source": [
    "#df = ROOT.ROOT.Experimental.TDataFrame(\"tree\", \"treefriend.root\");\n",
    "#df.Snapshot(\"EvMVA\", \"/eos/user/g/gtolkach/background_event_with_cuts_plus_1.root\", {\"EvMva\"})"
   ]
  },
  {
   "cell_type": "code",
   "execution_count": 3,
   "metadata": {},
   "outputs": [],
   "source": [
    "#new tree\n",
    "f1 = ROOT.TFile.Open('/eos/user/g/gtolkach/background_event_with_cuts_plus_1.root')\n",
    "f2 = ROOT.TFile.Open('/eos/user/g/gtolkach/SWAN_projects/testpy/treefriend.root')\n",
    "oldtree1 = f1.Get('NOMINAL')\n",
    "oldtree2 = f2.Get('EvMvatree')\n"
   ]
  },
  {
   "cell_type": "code",
   "execution_count": 6,
   "metadata": {},
   "outputs": [],
   "source": [
    "f = ROOT.TFile( 'newtree.root', 'RECREATE')\n",
    "oldtree1.CloneTree().Write()\n",
    "oldtree2.CloneTree().Write()\n",
    "f.Close()"
   ]
  },
  {
   "cell_type": "code",
   "execution_count": 13,
   "metadata": {},
   "outputs": [],
   "source": [
    "#oldtree.AddFriend(newtree)\n",
    "#oldtree.AddFriend('EvMvatree','/eos/user/g/gtolkach/SWAN_projects/testpy/treefriend.root');"
   ]
  },
  {
   "cell_type": "code",
   "execution_count": 14,
   "metadata": {},
   "outputs": [
    {
     "data": {
      "text/plain": [
       "0"
      ]
     },
     "execution_count": 14,
     "metadata": {},
     "output_type": "execute_result"
    },
    {
     "name": "stderr",
     "output_type": "stream",
     "text": [
      "Error in <TFile::WriteTObject>: Directory treefriend.root is not writable\n"
     ]
    }
   ],
   "source": [
    "#oldtree.Write()"
   ]
  },
  {
   "cell_type": "code",
   "execution_count": null,
   "metadata": {},
   "outputs": [],
   "source": []
  }
 ],
 "metadata": {
  "kernelspec": {
   "display_name": "Python 2",
   "language": "python",
   "name": "python2"
  },
  "language_info": {
   "codemirror_mode": {
    "name": "ipython",
    "version": 2
   },
   "file_extension": ".py",
   "mimetype": "text/x-python",
   "name": "python",
   "nbconvert_exporter": "python",
   "pygments_lexer": "ipython2",
   "version": "2.7.16"
  }
 },
 "nbformat": 4,
 "nbformat_minor": 2
}
